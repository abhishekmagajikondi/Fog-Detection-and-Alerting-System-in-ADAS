{
 "cells": [
  {
   "cell_type": "code",
   "execution_count": 50,
   "metadata": {},
   "outputs": [],
   "source": [
    "import cv2\n",
    "import pandas as pd\n",
    "import numpy as np\n",
    "import os\n",
    "from skimage.feature.texture import graycomatrix\n",
    "from skimage.feature.texture import graycoprops\n",
    "from tqdm import tqdm\n",
    "from sklearn.svm import SVC\n",
    "from sklearn.model_selection import KFold\n",
    "from sklearn.model_selection import cross_val_score\n",
    "from sklearn.model_selection import GridSearchCV"
   ]
  },
  {
   "cell_type": "code",
   "execution_count": 51,
   "metadata": {},
   "outputs": [],
   "source": [
    "def get_feature(img):\n",
    "    \n",
    "    img_graymatrix = graycomatrix(img, [1], [0, np.pi/2])\n",
    "    # print(\"img_graymatrix shape: \",img_graymatrix.shape)\n",
    "    \n",
    "    img_contrast = graycoprops(img_graymatrix, 'contrast')\n",
    "    # print(\"img_contrast shape: \", img_contrast.shape)\n",
    "    \n",
    "    img_homogeneity = graycoprops(img_graymatrix, 'homogeneity')\n",
    "    # print(\"img_homogeneity shape: \", img_homogeneity.shape)\n",
    "    \n",
    "    img_correlation = graycoprops(img_graymatrix, 'correlation')\n",
    "    # print(\"img_correlation shape: \", img_correlation.shape)\n",
    "    \n",
    "    \n",
    "    img_contrast_flattened = img_contrast.flatten()\n",
    "    img_homogeneity_flattened = img_homogeneity.flatten()\n",
    "    img_correlation_flattened = img_correlation.flatten()\n",
    "    \n",
    "    \n",
    "    features = np.concatenate([img_contrast_flattened, img_homogeneity_flattened, \n",
    "                             img_correlation_flattened])\n",
    "    # print(\"final_feature shape: \",features.shape)\n",
    "    \n",
    "    return(features)"
   ]
  },
  {
   "cell_type": "code",
   "execution_count": 52,
   "metadata": {},
   "outputs": [],
   "source": [
    "def feature_extraction(path_to_folder, class_label):\n",
    "    data_list=[]\n",
    "#     count=1\n",
    "    for file_name in tqdm(os.listdir(path_to_folder)):\n",
    "#         if(count>1):\n",
    "#             break\n",
    "        path_to_img = os.path.join(path_to_folder,file_name)\n",
    "        img = cv2.imread(path_to_img, 0) # grayscale image\n",
    "         \n",
    "        if np.shape(img) == ():\n",
    "            continue\n",
    "        \n",
    "        final_feature = get_feature(img)\n",
    "        # print(\"final_feature shape: \",final_feature.shape)\n",
    "        # print(\"final_feature is: \",final_feature)\n",
    "        \n",
    "        final_feature=list(final_feature)\n",
    "        final_feature.insert(0,file_name)\n",
    "        final_feature.insert(1,class_label)\n",
    "        \n",
    "        data_list.append(final_feature)\n",
    "        \n",
    "#         count+=1\n",
    "       \n",
    "    return(data_list)"
   ]
  },
  {
   "cell_type": "code",
   "execution_count": 53,
   "metadata": {},
   "outputs": [],
   "source": [
    "nonfog_path = \"NONFOGGY_SVM\"\n",
    "fog_path = \"FOGGY_SVM\"\n",
    "\n"
   ]
  },
  {
   "cell_type": "code",
   "execution_count": 54,
   "metadata": {},
   "outputs": [
    {
     "name": "stderr",
     "output_type": "stream",
     "text": [
      "100%|██████████| 520/520 [00:24<00:00, 21.30it/s]\n",
      "100%|██████████| 520/520 [00:12<00:00, 42.00it/s]\n"
     ]
    }
   ],
   "source": [
    "data_list1 = feature_extraction(nonfog_path, 0)\n",
    "data_list2 = feature_extraction(fog_path, 1)\n",
    "\n",
    "\n"
   ]
  },
  {
   "cell_type": "code",
   "execution_count": 55,
   "metadata": {},
   "outputs": [],
   "source": [
    "df1 = pd.DataFrame(data_list1)\n",
    "\n",
    "df2 = pd.DataFrame(data_list2)"
   ]
  },
  {
   "cell_type": "code",
   "execution_count": 56,
   "metadata": {},
   "outputs": [],
   "source": [
    "# Concatenate DataFrames along rows\n",
    "df = pd.concat([df1, df2], ignore_index=True)"
   ]
  },
  {
   "cell_type": "code",
   "execution_count": 57,
   "metadata": {},
   "outputs": [],
   "source": [
    "# Rename columns\n",
    "df.rename(columns={0: \"image_names\", 1: \"label\"}, inplace=True)\n",
    "\n",
    "# Save the DataFrame to a CSV file\n",
    "\n",
    "df.to_csv('features.csv', index=False)\n"
   ]
  },
  {
   "cell_type": "code",
   "execution_count": 58,
   "metadata": {},
   "outputs": [
    {
     "data": {
      "text/plain": [
       "(1040, 8)"
      ]
     },
     "execution_count": 58,
     "metadata": {},
     "output_type": "execute_result"
    }
   ],
   "source": [
    "df.shape"
   ]
  },
  {
   "cell_type": "markdown",
   "metadata": {},
   "source": [
    "SVM CLASSIFIER"
   ]
  },
  {
   "cell_type": "code",
   "execution_count": 59,
   "metadata": {},
   "outputs": [
    {
     "name": "stdout",
     "output_type": "stream",
     "text": [
      "(1040, 6)\n",
      "(1040,)\n"
     ]
    }
   ],
   "source": [
    "# Getting all values from the csv file in the form of array\n",
    "array=df.values\n",
    "# print(array)\n",
    "# Extracting the features from 3: coloumn and for all rows start : End  \n",
    "x_feature=array[:,2:]\n",
    "\n",
    "#Extracting the labels from 1st coloumn only as integer \n",
    "y_label=array[:,1].astype('int')\n",
    "\n",
    "\n",
    "print(x_feature.shape)\n",
    "print(y_label.shape)"
   ]
  },
  {
   "cell_type": "code",
   "execution_count": 60,
   "metadata": {},
   "outputs": [],
   "source": [
    "#Help Ous to split the x feature in train and test ,where test_size indicates 90 % is used for training and 10 % is used for testing \n",
    "# Random_state helps ous to to shuffle the data before splitting \n",
    "from sklearn.model_selection import train_test_split\n",
    "X_train,X_test,Y_train,Y_test=train_test_split(x_feature,y_label,test_size=0.10,random_state=7)\n",
    "# print(X_train,X_test)\n",
    "# print(X_test)\n",
    "# print(np.array(X_train[23]))\n"
   ]
  },
  {
   "cell_type": "code",
   "execution_count": 61,
   "metadata": {},
   "outputs": [],
   "source": [
    "from sklearn.preprocessing import MinMaxScaler\n",
    "# Normalise the data after splitting to avoid information leak between train and test set.\n",
    "\n",
    "scaler_norm = MinMaxScaler()\n",
    "\n",
    "# Helps ous to calculate the min max values for the features present in X_train .fit learns the min max of the training features \n",
    "# The same is applied on the testing Features \n",
    "X_train = scaler_norm.fit_transform(X_train)\n",
    "X_test = scaler_norm.fit_transform(X_test)\n",
    "# print(X_train)\n",
    "# print(X_test)\n",
    "\n",
    "\n"
   ]
  },
  {
   "cell_type": "code",
   "execution_count": 62,
   "metadata": {},
   "outputs": [
    {
     "name": "stdout",
     "output_type": "stream",
     "text": [
      "Training Accuracy:  0.812011 (0.027523)\n"
     ]
    }
   ],
   "source": [
    "# Random check\n",
    "model_SVC=SVC(kernel='rbf',C=100,gamma=0.001)\n",
    "\n",
    "kfold=KFold(n_splits=10, shuffle=True)\n",
    "cv_results=cross_val_score(model_SVC,X_train,Y_train,cv=kfold,scoring='accuracy')\n",
    "msg=\"%s %f (%f)\" % ('Training Accuracy: ',cv_results.mean(),cv_results.std())\n",
    "print(msg)"
   ]
  },
  {
   "cell_type": "code",
   "execution_count": 63,
   "metadata": {},
   "outputs": [
    {
     "name": "stdout",
     "output_type": "stream",
     "text": [
      "Fitting 10 folds for each of 25 candidates, totalling 250 fits\n",
      "[CV 1/10] END .........C=1, gamma=1, kernel=rbf;, score=0.787 total time=   0.0s\n",
      "[CV 2/10] END .........C=1, gamma=1, kernel=rbf;, score=0.883 total time=   0.0s\n",
      "[CV 3/10] END .........C=1, gamma=1, kernel=rbf;, score=0.883 total time=   0.0s\n",
      "[CV 4/10] END .........C=1, gamma=1, kernel=rbf;, score=0.787 total time=   0.0s\n",
      "[CV 5/10] END .........C=1, gamma=1, kernel=rbf;, score=0.862 total time=   0.0s\n",
      "[CV 6/10] END .........C=1, gamma=1, kernel=rbf;, score=0.872 total time=   0.0s\n",
      "[CV 7/10] END .........C=1, gamma=1, kernel=rbf;, score=0.871 total time=   0.0s\n",
      "[CV 8/10] END .........C=1, gamma=1, kernel=rbf;, score=0.892 total time=   0.0s\n",
      "[CV 9/10] END .........C=1, gamma=1, kernel=rbf;, score=0.817 total time=   0.0s\n",
      "[CV 10/10] END ........C=1, gamma=1, kernel=rbf;, score=0.774 total time=   0.0s\n",
      "[CV 1/10] END .......C=1, gamma=0.1, kernel=rbf;, score=0.787 total time=   0.0s\n",
      "[CV 2/10] END .......C=1, gamma=0.1, kernel=rbf;, score=0.819 total time=   0.0s\n",
      "[CV 3/10] END .......C=1, gamma=0.1, kernel=rbf;, score=0.819 total time=   0.0s\n",
      "[CV 4/10] END .......C=1, gamma=0.1, kernel=rbf;, score=0.755 total time=   0.0s\n",
      "[CV 5/10] END .......C=1, gamma=0.1, kernel=rbf;, score=0.809 total time=   0.0s\n",
      "[CV 6/10] END .......C=1, gamma=0.1, kernel=rbf;, score=0.894 total time=   0.0s\n",
      "[CV 7/10] END .......C=1, gamma=0.1, kernel=rbf;, score=0.817 total time=   0.0s\n",
      "[CV 8/10] END .......C=1, gamma=0.1, kernel=rbf;, score=0.871 total time=   0.0s\n",
      "[CV 9/10] END .......C=1, gamma=0.1, kernel=rbf;, score=0.785 total time=   0.0s\n",
      "[CV 10/10] END ......C=1, gamma=0.1, kernel=rbf;, score=0.763 total time=   0.0s\n",
      "[CV 1/10] END ......C=1, gamma=0.01, kernel=rbf;, score=0.734 total time=   0.0s\n",
      "[CV 2/10] END ......C=1, gamma=0.01, kernel=rbf;, score=0.787 total time=   0.0s\n",
      "[CV 3/10] END ......C=1, gamma=0.01, kernel=rbf;, score=0.777 total time=   0.0s\n",
      "[CV 4/10] END ......C=1, gamma=0.01, kernel=rbf;, score=0.713 total time=   0.0s\n",
      "[CV 5/10] END ......C=1, gamma=0.01, kernel=rbf;, score=0.787 total time=   0.0s\n",
      "[CV 6/10] END ......C=1, gamma=0.01, kernel=rbf;, score=0.851 total time=   0.0s\n",
      "[CV 7/10] END ......C=1, gamma=0.01, kernel=rbf;, score=0.763 total time=   0.0s\n",
      "[CV 8/10] END ......C=1, gamma=0.01, kernel=rbf;, score=0.839 total time=   0.0s\n",
      "[CV 9/10] END ......C=1, gamma=0.01, kernel=rbf;, score=0.774 total time=   0.0s\n",
      "[CV 10/10] END .....C=1, gamma=0.01, kernel=rbf;, score=0.731 total time=   0.0s\n",
      "[CV 1/10] END .....C=1, gamma=0.001, kernel=rbf;, score=0.457 total time=   0.0s\n",
      "[CV 2/10] END .....C=1, gamma=0.001, kernel=rbf;, score=0.457 total time=   0.0s\n",
      "[CV 3/10] END .....C=1, gamma=0.001, kernel=rbf;, score=0.468 total time=   0.0s\n",
      "[CV 4/10] END .....C=1, gamma=0.001, kernel=rbf;, score=0.468 total time=   0.0s\n",
      "[CV 5/10] END .....C=1, gamma=0.001, kernel=rbf;, score=0.511 total time=   0.0s\n",
      "[CV 6/10] END .....C=1, gamma=0.001, kernel=rbf;, score=0.362 total time=   0.0s\n",
      "[CV 7/10] END .....C=1, gamma=0.001, kernel=rbf;, score=0.495 total time=   0.0s\n",
      "[CV 8/10] END .....C=1, gamma=0.001, kernel=rbf;, score=0.462 total time=   0.0s\n",
      "[CV 9/10] END .....C=1, gamma=0.001, kernel=rbf;, score=0.484 total time=   0.0s\n",
      "[CV 10/10] END ....C=1, gamma=0.001, kernel=rbf;, score=0.495 total time=   0.0s\n",
      "[CV 1/10] END ....C=1, gamma=0.0001, kernel=rbf;, score=0.457 total time=   0.0s\n",
      "[CV 2/10] END ....C=1, gamma=0.0001, kernel=rbf;, score=0.457 total time=   0.0s\n",
      "[CV 3/10] END ....C=1, gamma=0.0001, kernel=rbf;, score=0.468 total time=   0.0s\n",
      "[CV 4/10] END ....C=1, gamma=0.0001, kernel=rbf;, score=0.468 total time=   0.0s\n",
      "[CV 5/10] END ....C=1, gamma=0.0001, kernel=rbf;, score=0.511 total time=   0.0s\n",
      "[CV 6/10] END ....C=1, gamma=0.0001, kernel=rbf;, score=0.362 total time=   0.0s\n",
      "[CV 7/10] END ....C=1, gamma=0.0001, kernel=rbf;, score=0.495 total time=   0.0s\n",
      "[CV 8/10] END ....C=1, gamma=0.0001, kernel=rbf;, score=0.462 total time=   0.0s\n",
      "[CV 9/10] END ....C=1, gamma=0.0001, kernel=rbf;, score=0.484 total time=   0.0s\n",
      "[CV 10/10] END ...C=1, gamma=0.0001, kernel=rbf;, score=0.495 total time=   0.0s\n",
      "[CV 1/10] END ........C=10, gamma=1, kernel=rbf;, score=0.872 total time=   0.0s\n",
      "[CV 2/10] END ........C=10, gamma=1, kernel=rbf;, score=0.936 total time=   0.0s\n",
      "[CV 3/10] END ........C=10, gamma=1, kernel=rbf;, score=0.872 total time=   0.0s\n",
      "[CV 4/10] END ........C=10, gamma=1, kernel=rbf;, score=0.851 total time=   0.0s\n",
      "[CV 5/10] END ........C=10, gamma=1, kernel=rbf;, score=0.926 total time=   0.0s\n",
      "[CV 6/10] END ........C=10, gamma=1, kernel=rbf;, score=0.883 total time=   0.0s\n",
      "[CV 7/10] END ........C=10, gamma=1, kernel=rbf;, score=0.935 total time=   0.0s\n",
      "[CV 8/10] END ........C=10, gamma=1, kernel=rbf;, score=0.892 total time=   0.0s\n",
      "[CV 9/10] END ........C=10, gamma=1, kernel=rbf;, score=0.860 total time=   0.0s\n",
      "[CV 10/10] END .......C=10, gamma=1, kernel=rbf;, score=0.849 total time=   0.0s\n",
      "[CV 1/10] END ......C=10, gamma=0.1, kernel=rbf;, score=0.787 total time=   0.0s\n",
      "[CV 2/10] END ......C=10, gamma=0.1, kernel=rbf;, score=0.894 total time=   0.0s\n",
      "[CV 3/10] END ......C=10, gamma=0.1, kernel=rbf;, score=0.883 total time=   0.0s\n",
      "[CV 4/10] END ......C=10, gamma=0.1, kernel=rbf;, score=0.809 total time=   0.0s\n",
      "[CV 5/10] END ......C=10, gamma=0.1, kernel=rbf;, score=0.883 total time=   0.0s\n",
      "[CV 6/10] END ......C=10, gamma=0.1, kernel=rbf;, score=0.883 total time=   0.0s\n",
      "[CV 7/10] END ......C=10, gamma=0.1, kernel=rbf;, score=0.892 total time=   0.0s\n",
      "[CV 8/10] END ......C=10, gamma=0.1, kernel=rbf;, score=0.892 total time=   0.0s\n",
      "[CV 9/10] END ......C=10, gamma=0.1, kernel=rbf;, score=0.817 total time=   0.0s\n",
      "[CV 10/10] END .....C=10, gamma=0.1, kernel=rbf;, score=0.796 total time=   0.0s\n",
      "[CV 1/10] END .....C=10, gamma=0.01, kernel=rbf;, score=0.787 total time=   0.0s\n",
      "[CV 2/10] END .....C=10, gamma=0.01, kernel=rbf;, score=0.819 total time=   0.0s\n",
      "[CV 3/10] END .....C=10, gamma=0.01, kernel=rbf;, score=0.819 total time=   0.0s\n",
      "[CV 4/10] END .....C=10, gamma=0.01, kernel=rbf;, score=0.755 total time=   0.0s\n",
      "[CV 5/10] END .....C=10, gamma=0.01, kernel=rbf;, score=0.809 total time=   0.0s\n",
      "[CV 6/10] END .....C=10, gamma=0.01, kernel=rbf;, score=0.894 total time=   0.0s\n",
      "[CV 7/10] END .....C=10, gamma=0.01, kernel=rbf;, score=0.817 total time=   0.0s\n",
      "[CV 8/10] END .....C=10, gamma=0.01, kernel=rbf;, score=0.871 total time=   0.0s\n",
      "[CV 9/10] END .....C=10, gamma=0.01, kernel=rbf;, score=0.785 total time=   0.0s\n",
      "[CV 10/10] END ....C=10, gamma=0.01, kernel=rbf;, score=0.763 total time=   0.0s\n",
      "[CV 1/10] END ....C=10, gamma=0.001, kernel=rbf;, score=0.734 total time=   0.0s\n",
      "[CV 2/10] END ....C=10, gamma=0.001, kernel=rbf;, score=0.787 total time=   0.0s\n",
      "[CV 3/10] END ....C=10, gamma=0.001, kernel=rbf;, score=0.777 total time=   0.0s\n",
      "[CV 4/10] END ....C=10, gamma=0.001, kernel=rbf;, score=0.713 total time=   0.0s\n",
      "[CV 5/10] END ....C=10, gamma=0.001, kernel=rbf;, score=0.787 total time=   0.0s\n",
      "[CV 6/10] END ....C=10, gamma=0.001, kernel=rbf;, score=0.851 total time=   0.0s\n",
      "[CV 7/10] END ....C=10, gamma=0.001, kernel=rbf;, score=0.763 total time=   0.0s\n",
      "[CV 8/10] END ....C=10, gamma=0.001, kernel=rbf;, score=0.839 total time=   0.0s\n",
      "[CV 9/10] END ....C=10, gamma=0.001, kernel=rbf;, score=0.774 total time=   0.0s\n",
      "[CV 10/10] END ...C=10, gamma=0.001, kernel=rbf;, score=0.731 total time=   0.0s\n",
      "[CV 1/10] END ...C=10, gamma=0.0001, kernel=rbf;, score=0.457 total time=   0.0s\n",
      "[CV 2/10] END ...C=10, gamma=0.0001, kernel=rbf;, score=0.457 total time=   0.0s\n",
      "[CV 3/10] END ...C=10, gamma=0.0001, kernel=rbf;, score=0.468 total time=   0.0s\n",
      "[CV 4/10] END ...C=10, gamma=0.0001, kernel=rbf;, score=0.468 total time=   0.0s\n",
      "[CV 5/10] END ...C=10, gamma=0.0001, kernel=rbf;, score=0.511 total time=   0.0s\n",
      "[CV 6/10] END ...C=10, gamma=0.0001, kernel=rbf;, score=0.362 total time=   0.0s\n",
      "[CV 7/10] END ...C=10, gamma=0.0001, kernel=rbf;, score=0.495 total time=   0.0s\n",
      "[CV 8/10] END ...C=10, gamma=0.0001, kernel=rbf;, score=0.462 total time=   0.0s\n",
      "[CV 9/10] END ...C=10, gamma=0.0001, kernel=rbf;, score=0.484 total time=   0.0s\n",
      "[CV 10/10] END ..C=10, gamma=0.0001, kernel=rbf;, score=0.495 total time=   0.0s\n",
      "[CV 1/10] END .......C=100, gamma=1, kernel=rbf;, score=0.894 total time=   0.0s\n",
      "[CV 2/10] END .......C=100, gamma=1, kernel=rbf;, score=0.926 total time=   0.0s\n",
      "[CV 3/10] END .......C=100, gamma=1, kernel=rbf;, score=0.883 total time=   0.0s\n",
      "[CV 4/10] END .......C=100, gamma=1, kernel=rbf;, score=0.851 total time=   0.0s\n",
      "[CV 5/10] END .......C=100, gamma=1, kernel=rbf;, score=0.936 total time=   0.0s\n",
      "[CV 6/10] END .......C=100, gamma=1, kernel=rbf;, score=0.883 total time=   0.0s\n",
      "[CV 7/10] END .......C=100, gamma=1, kernel=rbf;, score=0.925 total time=   0.0s\n",
      "[CV 8/10] END .......C=100, gamma=1, kernel=rbf;, score=0.882 total time=   0.0s\n",
      "[CV 9/10] END .......C=100, gamma=1, kernel=rbf;, score=0.849 total time=   0.0s\n",
      "[CV 10/10] END ......C=100, gamma=1, kernel=rbf;, score=0.860 total time=   0.0s\n",
      "[CV 1/10] END .....C=100, gamma=0.1, kernel=rbf;, score=0.872 total time=   0.0s\n",
      "[CV 2/10] END .....C=100, gamma=0.1, kernel=rbf;, score=0.926 total time=   0.0s\n",
      "[CV 3/10] END .....C=100, gamma=0.1, kernel=rbf;, score=0.872 total time=   0.0s\n",
      "[CV 4/10] END .....C=100, gamma=0.1, kernel=rbf;, score=0.851 total time=   0.0s\n",
      "[CV 5/10] END .....C=100, gamma=0.1, kernel=rbf;, score=0.915 total time=   0.0s\n",
      "[CV 6/10] END .....C=100, gamma=0.1, kernel=rbf;, score=0.904 total time=   0.0s\n",
      "[CV 7/10] END .....C=100, gamma=0.1, kernel=rbf;, score=0.935 total time=   0.0s\n",
      "[CV 8/10] END .....C=100, gamma=0.1, kernel=rbf;, score=0.892 total time=   0.0s\n",
      "[CV 9/10] END .....C=100, gamma=0.1, kernel=rbf;, score=0.839 total time=   0.0s\n",
      "[CV 10/10] END ....C=100, gamma=0.1, kernel=rbf;, score=0.839 total time=   0.0s\n",
      "[CV 1/10] END ....C=100, gamma=0.01, kernel=rbf;, score=0.787 total time=   0.0s\n",
      "[CV 2/10] END ....C=100, gamma=0.01, kernel=rbf;, score=0.894 total time=   0.0s\n",
      "[CV 3/10] END ....C=100, gamma=0.01, kernel=rbf;, score=0.883 total time=   0.0s\n",
      "[CV 4/10] END ....C=100, gamma=0.01, kernel=rbf;, score=0.809 total time=   0.0s\n",
      "[CV 5/10] END ....C=100, gamma=0.01, kernel=rbf;, score=0.883 total time=   0.0s\n",
      "[CV 6/10] END ....C=100, gamma=0.01, kernel=rbf;, score=0.883 total time=   0.0s\n",
      "[CV 7/10] END ....C=100, gamma=0.01, kernel=rbf;, score=0.882 total time=   0.0s\n",
      "[CV 8/10] END ....C=100, gamma=0.01, kernel=rbf;, score=0.892 total time=   0.0s\n",
      "[CV 9/10] END ....C=100, gamma=0.01, kernel=rbf;, score=0.817 total time=   0.0s\n",
      "[CV 10/10] END ...C=100, gamma=0.01, kernel=rbf;, score=0.785 total time=   0.0s\n",
      "[CV 1/10] END ...C=100, gamma=0.001, kernel=rbf;, score=0.787 total time=   0.0s\n",
      "[CV 2/10] END ...C=100, gamma=0.001, kernel=rbf;, score=0.819 total time=   0.0s\n",
      "[CV 3/10] END ...C=100, gamma=0.001, kernel=rbf;, score=0.819 total time=   0.0s\n",
      "[CV 4/10] END ...C=100, gamma=0.001, kernel=rbf;, score=0.755 total time=   0.0s\n",
      "[CV 5/10] END ...C=100, gamma=0.001, kernel=rbf;, score=0.809 total time=   0.0s\n",
      "[CV 6/10] END ...C=100, gamma=0.001, kernel=rbf;, score=0.894 total time=   0.0s\n",
      "[CV 7/10] END ...C=100, gamma=0.001, kernel=rbf;, score=0.817 total time=   0.0s\n",
      "[CV 8/10] END ...C=100, gamma=0.001, kernel=rbf;, score=0.871 total time=   0.0s\n",
      "[CV 9/10] END ...C=100, gamma=0.001, kernel=rbf;, score=0.785 total time=   0.0s\n",
      "[CV 10/10] END ..C=100, gamma=0.001, kernel=rbf;, score=0.763 total time=   0.0s\n",
      "[CV 1/10] END ..C=100, gamma=0.0001, kernel=rbf;, score=0.734 total time=   0.0s\n",
      "[CV 2/10] END ..C=100, gamma=0.0001, kernel=rbf;, score=0.787 total time=   0.0s\n",
      "[CV 3/10] END ..C=100, gamma=0.0001, kernel=rbf;, score=0.777 total time=   0.0s\n",
      "[CV 4/10] END ..C=100, gamma=0.0001, kernel=rbf;, score=0.713 total time=   0.0s\n",
      "[CV 5/10] END ..C=100, gamma=0.0001, kernel=rbf;, score=0.787 total time=   0.0s\n",
      "[CV 6/10] END ..C=100, gamma=0.0001, kernel=rbf;, score=0.851 total time=   0.0s\n",
      "[CV 7/10] END ..C=100, gamma=0.0001, kernel=rbf;, score=0.763 total time=   0.0s\n",
      "[CV 8/10] END ..C=100, gamma=0.0001, kernel=rbf;, score=0.839 total time=   0.0s\n",
      "[CV 9/10] END ..C=100, gamma=0.0001, kernel=rbf;, score=0.774 total time=   0.0s\n",
      "[CV 10/10] END .C=100, gamma=0.0001, kernel=rbf;, score=0.731 total time=   0.0s\n",
      "[CV 1/10] END .......C=500, gamma=1, kernel=rbf;, score=0.904 total time=   0.0s\n",
      "[CV 2/10] END .......C=500, gamma=1, kernel=rbf;, score=0.936 total time=   0.0s\n",
      "[CV 3/10] END .......C=500, gamma=1, kernel=rbf;, score=0.872 total time=   0.0s\n",
      "[CV 4/10] END .......C=500, gamma=1, kernel=rbf;, score=0.872 total time=   0.0s\n",
      "[CV 5/10] END .......C=500, gamma=1, kernel=rbf;, score=0.936 total time=   0.0s\n",
      "[CV 6/10] END .......C=500, gamma=1, kernel=rbf;, score=0.883 total time=   0.0s\n",
      "[CV 7/10] END .......C=500, gamma=1, kernel=rbf;, score=0.925 total time=   0.0s\n",
      "[CV 8/10] END .......C=500, gamma=1, kernel=rbf;, score=0.882 total time=   0.0s\n",
      "[CV 9/10] END .......C=500, gamma=1, kernel=rbf;, score=0.860 total time=   0.0s\n",
      "[CV 10/10] END ......C=500, gamma=1, kernel=rbf;, score=0.860 total time=   0.0s\n",
      "[CV 1/10] END .....C=500, gamma=0.1, kernel=rbf;, score=0.883 total time=   0.0s\n",
      "[CV 2/10] END .....C=500, gamma=0.1, kernel=rbf;, score=0.936 total time=   0.0s\n",
      "[CV 3/10] END .....C=500, gamma=0.1, kernel=rbf;, score=0.872 total time=   0.0s\n",
      "[CV 4/10] END .....C=500, gamma=0.1, kernel=rbf;, score=0.851 total time=   0.0s\n",
      "[CV 5/10] END .....C=500, gamma=0.1, kernel=rbf;, score=0.926 total time=   0.0s\n",
      "[CV 6/10] END .....C=500, gamma=0.1, kernel=rbf;, score=0.894 total time=   0.0s\n",
      "[CV 7/10] END .....C=500, gamma=0.1, kernel=rbf;, score=0.935 total time=   0.0s\n",
      "[CV 8/10] END .....C=500, gamma=0.1, kernel=rbf;, score=0.892 total time=   0.0s\n",
      "[CV 9/10] END .....C=500, gamma=0.1, kernel=rbf;, score=0.871 total time=   0.0s\n",
      "[CV 10/10] END ....C=500, gamma=0.1, kernel=rbf;, score=0.860 total time=   0.0s\n",
      "[CV 1/10] END ....C=500, gamma=0.01, kernel=rbf;, score=0.851 total time=   0.0s\n",
      "[CV 2/10] END ....C=500, gamma=0.01, kernel=rbf;, score=0.926 total time=   0.0s\n",
      "[CV 3/10] END ....C=500, gamma=0.01, kernel=rbf;, score=0.862 total time=   0.0s\n",
      "[CV 4/10] END ....C=500, gamma=0.01, kernel=rbf;, score=0.819 total time=   0.0s\n",
      "[CV 5/10] END ....C=500, gamma=0.01, kernel=rbf;, score=0.915 total time=   0.0s\n",
      "[CV 6/10] END ....C=500, gamma=0.01, kernel=rbf;, score=0.894 total time=   0.0s\n",
      "[CV 7/10] END ....C=500, gamma=0.01, kernel=rbf;, score=0.935 total time=   0.0s\n",
      "[CV 8/10] END ....C=500, gamma=0.01, kernel=rbf;, score=0.882 total time=   0.0s\n",
      "[CV 9/10] END ....C=500, gamma=0.01, kernel=rbf;, score=0.839 total time=   0.0s\n",
      "[CV 10/10] END ...C=500, gamma=0.01, kernel=rbf;, score=0.849 total time=   0.0s\n",
      "[CV 1/10] END ...C=500, gamma=0.001, kernel=rbf;, score=0.787 total time=   0.0s\n",
      "[CV 2/10] END ...C=500, gamma=0.001, kernel=rbf;, score=0.851 total time=   0.0s\n",
      "[CV 3/10] END ...C=500, gamma=0.001, kernel=rbf;, score=0.862 total time=   0.0s\n",
      "[CV 4/10] END ...C=500, gamma=0.001, kernel=rbf;, score=0.755 total time=   0.0s\n",
      "[CV 5/10] END ...C=500, gamma=0.001, kernel=rbf;, score=0.862 total time=   0.0s\n",
      "[CV 6/10] END ...C=500, gamma=0.001, kernel=rbf;, score=0.883 total time=   0.0s\n",
      "[CV 7/10] END ...C=500, gamma=0.001, kernel=rbf;, score=0.860 total time=   0.0s\n",
      "[CV 8/10] END ...C=500, gamma=0.001, kernel=rbf;, score=0.914 total time=   0.0s\n",
      "[CV 9/10] END ...C=500, gamma=0.001, kernel=rbf;, score=0.817 total time=   0.0s\n",
      "[CV 10/10] END ..C=500, gamma=0.001, kernel=rbf;, score=0.763 total time=   0.0s\n",
      "[CV 1/10] END ..C=500, gamma=0.0001, kernel=rbf;, score=0.787 total time=   0.0s\n",
      "[CV 2/10] END ..C=500, gamma=0.0001, kernel=rbf;, score=0.809 total time=   0.0s\n",
      "[CV 3/10] END ..C=500, gamma=0.0001, kernel=rbf;, score=0.798 total time=   0.0s\n",
      "[CV 4/10] END ..C=500, gamma=0.0001, kernel=rbf;, score=0.755 total time=   0.0s\n",
      "[CV 5/10] END ..C=500, gamma=0.0001, kernel=rbf;, score=0.809 total time=   0.0s\n",
      "[CV 6/10] END ..C=500, gamma=0.0001, kernel=rbf;, score=0.883 total time=   0.0s\n",
      "[CV 7/10] END ..C=500, gamma=0.0001, kernel=rbf;, score=0.796 total time=   0.0s\n",
      "[CV 8/10] END ..C=500, gamma=0.0001, kernel=rbf;, score=0.860 total time=   0.0s\n",
      "[CV 9/10] END ..C=500, gamma=0.0001, kernel=rbf;, score=0.774 total time=   0.0s\n",
      "[CV 10/10] END .C=500, gamma=0.0001, kernel=rbf;, score=0.763 total time=   0.0s\n",
      "[CV 1/10] END ......C=1000, gamma=1, kernel=rbf;, score=0.904 total time=   0.0s\n",
      "[CV 2/10] END ......C=1000, gamma=1, kernel=rbf;, score=0.936 total time=   0.0s\n",
      "[CV 3/10] END ......C=1000, gamma=1, kernel=rbf;, score=0.872 total time=   0.0s\n",
      "[CV 4/10] END ......C=1000, gamma=1, kernel=rbf;, score=0.872 total time=   0.0s\n",
      "[CV 5/10] END ......C=1000, gamma=1, kernel=rbf;, score=0.936 total time=   0.0s\n",
      "[CV 6/10] END ......C=1000, gamma=1, kernel=rbf;, score=0.883 total time=   0.0s\n",
      "[CV 7/10] END ......C=1000, gamma=1, kernel=rbf;, score=0.925 total time=   0.0s\n",
      "[CV 8/10] END ......C=1000, gamma=1, kernel=rbf;, score=0.882 total time=   0.0s\n",
      "[CV 9/10] END ......C=1000, gamma=1, kernel=rbf;, score=0.860 total time=   0.0s\n",
      "[CV 10/10] END .....C=1000, gamma=1, kernel=rbf;, score=0.860 total time=   0.0s\n",
      "[CV 1/10] END ....C=1000, gamma=0.1, kernel=rbf;, score=0.883 total time=   0.0s\n",
      "[CV 2/10] END ....C=1000, gamma=0.1, kernel=rbf;, score=0.936 total time=   0.0s\n",
      "[CV 3/10] END ....C=1000, gamma=0.1, kernel=rbf;, score=0.883 total time=   0.0s\n",
      "[CV 4/10] END ....C=1000, gamma=0.1, kernel=rbf;, score=0.840 total time=   0.0s\n",
      "[CV 5/10] END ....C=1000, gamma=0.1, kernel=rbf;, score=0.926 total time=   0.0s\n",
      "[CV 6/10] END ....C=1000, gamma=0.1, kernel=rbf;, score=0.872 total time=   0.0s\n",
      "[CV 7/10] END ....C=1000, gamma=0.1, kernel=rbf;, score=0.935 total time=   0.0s\n",
      "[CV 8/10] END ....C=1000, gamma=0.1, kernel=rbf;, score=0.892 total time=   0.0s\n",
      "[CV 9/10] END ....C=1000, gamma=0.1, kernel=rbf;, score=0.871 total time=   0.0s\n",
      "[CV 10/10] END ...C=1000, gamma=0.1, kernel=rbf;, score=0.860 total time=   0.0s\n",
      "[CV 1/10] END ...C=1000, gamma=0.01, kernel=rbf;, score=0.862 total time=   0.0s\n",
      "[CV 2/10] END ...C=1000, gamma=0.01, kernel=rbf;, score=0.926 total time=   0.0s\n",
      "[CV 3/10] END ...C=1000, gamma=0.01, kernel=rbf;, score=0.872 total time=   0.0s\n",
      "[CV 4/10] END ...C=1000, gamma=0.01, kernel=rbf;, score=0.840 total time=   0.0s\n",
      "[CV 5/10] END ...C=1000, gamma=0.01, kernel=rbf;, score=0.915 total time=   0.0s\n",
      "[CV 6/10] END ...C=1000, gamma=0.01, kernel=rbf;, score=0.894 total time=   0.0s\n",
      "[CV 7/10] END ...C=1000, gamma=0.01, kernel=rbf;, score=0.935 total time=   0.0s\n",
      "[CV 8/10] END ...C=1000, gamma=0.01, kernel=rbf;, score=0.892 total time=   0.0s\n",
      "[CV 9/10] END ...C=1000, gamma=0.01, kernel=rbf;, score=0.839 total time=   0.0s\n",
      "[CV 10/10] END ..C=1000, gamma=0.01, kernel=rbf;, score=0.839 total time=   0.0s\n",
      "[CV 1/10] END ..C=1000, gamma=0.001, kernel=rbf;, score=0.787 total time=   0.0s\n",
      "[CV 2/10] END ..C=1000, gamma=0.001, kernel=rbf;, score=0.894 total time=   0.0s\n",
      "[CV 3/10] END ..C=1000, gamma=0.001, kernel=rbf;, score=0.883 total time=   0.0s\n",
      "[CV 4/10] END ..C=1000, gamma=0.001, kernel=rbf;, score=0.809 total time=   0.0s\n",
      "[CV 5/10] END ..C=1000, gamma=0.001, kernel=rbf;, score=0.883 total time=   0.0s\n",
      "[CV 6/10] END ..C=1000, gamma=0.001, kernel=rbf;, score=0.883 total time=   0.0s\n",
      "[CV 7/10] END ..C=1000, gamma=0.001, kernel=rbf;, score=0.882 total time=   0.0s\n",
      "[CV 8/10] END ..C=1000, gamma=0.001, kernel=rbf;, score=0.892 total time=   0.0s\n",
      "[CV 9/10] END ..C=1000, gamma=0.001, kernel=rbf;, score=0.817 total time=   0.0s\n",
      "[CV 10/10] END .C=1000, gamma=0.001, kernel=rbf;, score=0.785 total time=   0.0s\n",
      "[CV 1/10] END .C=1000, gamma=0.0001, kernel=rbf;, score=0.787 total time=   0.0s\n",
      "[CV 2/10] END .C=1000, gamma=0.0001, kernel=rbf;, score=0.819 total time=   0.0s\n",
      "[CV 3/10] END .C=1000, gamma=0.0001, kernel=rbf;, score=0.819 total time=   0.0s\n",
      "[CV 4/10] END .C=1000, gamma=0.0001, kernel=rbf;, score=0.755 total time=   0.0s\n",
      "[CV 5/10] END .C=1000, gamma=0.0001, kernel=rbf;, score=0.809 total time=   0.0s\n",
      "[CV 6/10] END .C=1000, gamma=0.0001, kernel=rbf;, score=0.894 total time=   0.0s\n",
      "[CV 7/10] END .C=1000, gamma=0.0001, kernel=rbf;, score=0.817 total time=   0.0s\n",
      "[CV 8/10] END .C=1000, gamma=0.0001, kernel=rbf;, score=0.871 total time=   0.0s\n",
      "[CV 9/10] END .C=1000, gamma=0.0001, kernel=rbf;, score=0.785 total time=   0.0s\n",
      "[CV 10/10] END C=1000, gamma=0.0001, kernel=rbf;, score=0.763 total time=   0.0s\n",
      "Best: 0.893114 using {'C': 500, 'gamma': 1, 'kernel': 'rbf'}\n"
     ]
    }
   ],
   "source": [
    "# SVM hypertuning using GridSeachCV\n",
    "model_SVC=SVC()\n",
    "\n",
    "kfold=KFold(n_splits=10)\n",
    "param_grid = {'C': [1, 10, 100, 500, 1000], \n",
    "              'gamma': [1, 0.1, 0.01, 0.001, 0.0001],\n",
    "              'kernel': ['rbf']} \n",
    "\n",
    "grid=GridSearchCV(estimator=model_SVC,param_grid=param_grid,scoring='accuracy',cv=kfold,verbose=3)\n",
    "grid_result=grid.fit(X_train,Y_train)\n",
    "\n",
    "print(\"Best: %f using %s\" % (grid_result.best_score_,grid_result.best_params_))"
   ]
  },
  {
   "cell_type": "code",
   "execution_count": 64,
   "metadata": {},
   "outputs": [
    {
     "name": "stdout",
     "output_type": "stream",
     "text": [
      "PREDICTED VALUE : [0 1 0 0 1 0 1 1 0 1 0 0 1 1]\n",
      "GROUND TRUTH VALUE : [0 1 0 1 1 0 1 1 0 1 0 0 0 1]\n"
     ]
    }
   ],
   "source": [
    "model_SVC = SVC(C=100,gamma=1, kernel='rbf')\n",
    "model_SVC.fit(X_train,Y_train) \n",
    "predictions=model_SVC.predict(X_test)\n",
    "# print(len(predictions))\n",
    "print(\"PREDICTED VALUE :\" ,predictions[1:15:1])\n",
    "print(\"GROUND TRUTH VALUE :\" ,Y_test[1:15:1])\n",
    "# 1 -- Foggy\n",
    "# 0 -- NON Foggy"
   ]
  },
  {
   "cell_type": "markdown",
   "metadata": {},
   "source": [
    "# TO check whether the output predicted is correct or not "
   ]
  },
  {
   "cell_type": "code",
   "execution_count": 49,
   "metadata": {},
   "outputs": [
    {
     "name": "stderr",
     "output_type": "stream",
     "text": [
      "100%|██████████| 1/1 [00:00<00:00, 18.11it/s]\n"
     ]
    },
    {
     "name": "stdout",
     "output_type": "stream",
     "text": [
      "(1, 6)\n",
      "(1,)\n",
      "[1]\n"
     ]
    }
   ],
   "source": [
    "\n",
    "from sklearn.preprocessing import MinMaxScaler\n",
    "import cv2\n",
    "import joblib\n",
    "nonfog_path1 = \"NON_FOGTEST_SVM\"\n",
    "data_list3 = feature_extraction(nonfog_path1, 0)\n",
    "df3 = pd.DataFrame(data_list3)\n",
    "df3.shape\n",
    "array1=df3.values\n",
    "img_feature=array1[:,2:]\n",
    "\n",
    "#Extracting the labels from 1st coloumn only as integer \n",
    "y_label1=array1[:,1].astype('int')\n",
    "print(img_feature.shape)\n",
    "print(y_label1.shape)\n",
    "# Normalise the data after splitting to avoid information leak between train and test set.\n",
    "\n",
    "scaler_norm1 = MinMaxScaler()\n",
    "img_feature = scaler_norm1.fit_transform(img_feature)\n",
    "model_SVC = joblib.load('svm_model.joblib')\n",
    "pred=model_SVC.predict(img_feature)\n",
    "print(pred)\n",
    "img = cv2.imread(r\"A:\\MINI_PROJECT_1\\Train\\cloudy\\CLEANN 13.jpg\")\n",
    "img = cv2.resize(img,(500,500))\n",
    "# Display the image in a window named \"Image\"\n",
    "cv2.imshow(\"Image\", img)\n",
    "\n",
    "# Wait for a key press and then close the window\n",
    "cv2.waitKey(0)\n",
    "cv2.destroyAllWindows()"
   ]
  },
  {
   "cell_type": "code",
   "execution_count": null,
   "metadata": {},
   "outputs": [],
   "source": [
    "import joblib\n",
    "# Save the trained model to a file using joblib\n",
    "joblib.dump(model_SVC, 'svm_model.joblib')"
   ]
  },
  {
   "cell_type": "markdown",
   "metadata": {},
   "source": [
    "# CONFUSION MATRIX\n",
    "                                      predicted\n",
    "                         fog  non fog          fog   non fog\n",
    "Actual            fog    [[TN, FP]             [[ 8      0]\n",
    "              non fog     [FN, TP]]             [ 1     34]]\n",
    "\n",
    "\n",
    "TN (True Negative): Instances that are correctly predicted as negative.\n",
    "FP (False Positive): Instances that are incorrectly predicted as positive.\n",
    "FN (False Negative): Instances that are incorrectly predicted as negative.\n",
    "TP (True Positive): Instances that are correctly predicted as positive."
   ]
  },
  {
   "cell_type": "code",
   "execution_count": null,
   "metadata": {},
   "outputs": [],
   "source": [
    "from sklearn.metrics import classification_report\n",
    "from sklearn.metrics import confusion_matrix\n",
    "from sklearn.metrics import accuracy_score\n",
    "print(\"Test Accuracy Of our model : \",accuracy_score(Y_test,predictions))\n",
    "\n",
    "# print(\"Accuracy Of our model is: {:.4f}\".format(accuracy_score(Y_test, predictions)))\n",
    "\n",
    "print(\"Confusion Matrix of our model is :\")\n",
    "print(confusion_matrix(Y_test,predictions))\n",
    "print(classification_report(Y_test,predictions))"
   ]
  },
  {
   "cell_type": "markdown",
   "metadata": {},
   "source": [
    "# CLASSIFICATION REPORT\n",
    "precision = TP/(TP+FP)\n",
    "\n",
    "recall = TP/(TP+FN)\n",
    "\n",
    "f1-score = 2*P*R/(P+R)\n",
    "\n",
    "support --> for those many samples \n",
    "\n",
    "accuracy = How crrct prictions our model will do\n",
    "\n",
    "macro avg = P1 + P2/2\n",
    "\n",
    "weighted avg = P1 * samples + P2 * samples/ total samples"
   ]
  },
  {
   "cell_type": "code",
   "execution_count": null,
   "metadata": {},
   "outputs": [],
   "source": []
  }
 ],
 "metadata": {
  "kernelspec": {
   "display_name": "base",
   "language": "python",
   "name": "python3"
  },
  "language_info": {
   "codemirror_mode": {
    "name": "ipython",
    "version": 3
   },
   "file_extension": ".py",
   "mimetype": "text/x-python",
   "name": "python",
   "nbconvert_exporter": "python",
   "pygments_lexer": "ipython3",
   "version": "3.11.5"
  }
 },
 "nbformat": 4,
 "nbformat_minor": 2
}
